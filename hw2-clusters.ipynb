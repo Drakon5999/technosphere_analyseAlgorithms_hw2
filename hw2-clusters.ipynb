{
 "cells": [
  {
   "cell_type": "markdown",
   "metadata": {},
   "source": [
    "# Алгоритмы интеллектуальной обработки больших объемов данных\n",
    "## Домашнее задание №2 - Алгоритмы кластеризации\n"
   ]
  },
  {
   "cell_type": "markdown",
   "metadata": {},
   "source": [
    "###### <hr\\>\n",
    "**Общая информация**\n",
    "\n",
    "**Срок сдачи:** 23 октября 2017, 06:00 <br\\>\n",
    "**Штраф за опоздание:** -2 балла после 06:00 23 октября, -4 балла после 06:00 30 октября, -6 баллов после 06:00 6 ноября\n",
    "\n",
    "При отправлении ДЗ указывайте фамилию в названии файла\n",
    "Присылать ДЗ необходимо в виде ссылки на свой github репозиторий в slack @alkhamush Необходимо в slack создать таск в приватный чат:\n",
    "/todo Фамилия Имя ссылка на гитхаб @alkhamush\n",
    "Пример:\n",
    "/todo Ксения Стройкова https://github.com/stroykova/spheremailru/stroykova_hw1.ipynb @alkhamush\n",
    "\n",
    "Используйте данный Ipython Notebook при оформлении домашнего задания.\n",
    "<hr\\>"
   ]
  },
  {
   "cell_type": "markdown",
   "metadata": {},
   "source": [
    "###### Задание 1 (4 балла)\n",
    "Реализовать алгоритм кластеризации, который относится к вашему варианту. Проверить работоспособность алгоритма на \"Iris\". Сравните свой алгоритм кластеризации с алгоритмом из scikit-learn по времени выполнения, использую timeit. Ваша реализация не должна работать сильно дольше, а в идеале должна быть даже немного быстрее.\n",
    "\n",
    "###### Задание 2 (2 балла)\n",
    "Выбрать, имплементировать и использовать критерий качества\n",
    "\n",
    "###### Задание 3 (3балла)\n",
    "Применить алгоритм кластеризации к данным по странам.   \n",
    "Подход следующий: фиксируем год, для каждой страны берём индикаторы по зафиксированному году, кластеризуем по индикаторам.   \n",
    "Разбиение должно быть объяснимым, в противном случае, скорее всего нужно лучше настроить параметры кластеризации.   \n",
    "Данные нужно скачать тут https://data.worldbank.org/data-catalog/world-development-indicators.   \n",
    "Также необходимо показать, какие страны попали в общий кластер.\n",
    "изуализировать результат с помощью T-SNE. Внимание! На полном объеме данных данный алгоритм может работать существенное время.\n",
    "\n",
    "###### Задание 4 (1 балл)\n",
    "Опишите в выводе почему и какие страны попали в общий кластер."
   ]
  },
  {
   "cell_type": "markdown",
   "metadata": {},
   "source": [
    "Основная задача этого задания - реализация одного из алгоритмов кластеризации. Кроме того, мы научимся подбирать параметры алгоритма, визуализируем результат кластеризации и попытаемся проанализировать природу полученных кластеров."
   ]
  },
  {
   "cell_type": "code",
   "execution_count": 1,
   "metadata": {
    "collapsed": false
   },
   "outputs": [
    {
     "name": "stdout",
     "output_type": "stream",
     "text": [
      "Populating the interactive namespace from numpy and matplotlib\n"
     ]
    }
   ],
   "source": [
    "import pandas as pd\n",
    "import pylab as pl\n",
    "import numpy as np\n",
    "import scipy.spatial as ss\n",
    "import sklearn.cluster as sc\n",
    "import sklearn.manifold as sm\n",
    "import sklearn.datasets as ds\n",
    "import sklearn.metrics as smt\n",
    "\n",
    "import matplotlib.pyplot as plt\n",
    "import mpl_toolkits.basemap as bm\n",
    "\n",
    "%matplotlib inline\n",
    "\n",
    "plt.style.use('ggplot')\n",
    "plt.rcParams['figure.figsize'] = (12,5)\n",
    "\n",
    "# Plotting config\n",
    "%pylab inline"
   ]
  },
  {
   "cell_type": "markdown",
   "metadata": {},
   "source": [
    "## Реализация алгоритма"
   ]
  },
  {
   "cell_type": "markdown",
   "metadata": {},
   "source": [
    "Алгоритм кластеризации, который необходимо реализовать, выбирается на основании Вашего порядкового номера в списке группы."
   ]
  },
  {
   "cell_type": "markdown",
   "metadata": {},
   "source": [
    "1. Авилова Екатерина\n",
    "2. Адаменко Павел\n",
    "3. Акиньщиков Алексей\n",
    "4. Афанасьева Анастасия\n",
    "5. Балес Александр\n",
    "6. Беляев Владимир\n",
    "7. Беспалова Анастасия\n",
    "8. Богомолов Эмиль\n",
    "9. Боднарюк Василий\n",
    "10. Бучкин Александр\n",
    "11. Валинуров Денис\n",
    "12. Волков Глеб\n",
    "13. Голенков Кирилл\n",
    "14. Горбушин Михаил\n",
    "15. Димов Илья\n",
    "16. Докшина Елизавета\n",
    "17. Дорожинский Владислав\n",
    "18. Жирнов Михаил\n",
    "19. Жолковский Евгений\n",
    "20. Зайдель Петр\n",
    "21. Зимнюков Максим\n",
    "22. Иванов Илья\n",
    "23. Кашипов Артем\n",
    "24. Комов Евгений\n",
    "25. Кошман Дима\n",
    "26. Кузнецова Екатерина\n",
    "27. Кулагин Алексей\n",
    "28. Лавреновъ Виталiй\n",
    "29. Лебедь Федор\n",
    "30. Лешков Михаил\n",
    "31. Лозинский Иван\n",
    "32. Лоскутов Антон\n",
    "33. Лютов Владимир\n",
    "34. Мажаров Иван\n",
    "35. Манкевич Павел\n",
    "36. Муравьев Никита\n",
    "37. Находнов Максим\n",
    "38. Оплачко Николай\n",
    "39. Павлов Евгений\n",
    "40. Петряйкин Федор\n",
    "41. Рахматуллин Фарид\n",
    "42. Секретарев Тихон\n",
    "43. Сенюшкин Дмитрий\n",
    "44. Серов Николай\n",
    "45. Смирнов Александр\n",
    "46. Соловьев Павел\n",
    "47. Сомов Иван\n",
    "48. Спиркин Роман\n",
    "49. Терёшина Мария\n",
    "50. Торбунова Екатерина\n",
    "51. Тюгаев Антон\n",
    "52. Фельдман Борис\n",
    "53. Филин Максим\n",
    "54. Фролов Михаил\n",
    "55. Хохлов Олег\n",
    "56. Черемнов Андрей\n",
    "57. Шевцов Антон\n",
    "58. Шурыгин Александр"
   ]
  },
  {
   "cell_type": "code",
   "execution_count": 3,
   "metadata": {
    "collapsed": true
   },
   "outputs": [],
   "source": [
    "N = 31 # put your index here"
   ]
  },
  {
   "cell_type": "code",
   "execution_count": 4,
   "metadata": {
    "collapsed": false
   },
   "outputs": [
    {
     "name": "stdout",
     "output_type": "stream",
     "text": [
      "Реализуем алгоритм кластеризации 'Hierarchical clustering с поддержкой single-linkage, complete-linkage, average-linkage (параметры - k, linkage)'\n"
     ]
    }
   ],
   "source": [
    "algorithms = [\n",
    "    u\"Gaussian Mixture Model с использованием maximum a-posteriori для выбора кластера (параметр - k)\",\n",
    "    u\"Hierarchical clustering с поддержкой single-linkage, complete-linkage, average-linkage (параметры - k, linkage)\",\n",
    "    u\"DBSCAN. (параметры - epsilon, min_pts)\"\n",
    "]\n",
    "\n",
    "my_algorithm = algorithms[N % len(algorithms)]\n",
    "print u\"Реализуем алгоритм кластеризации '%s'\" % my_algorithm"
   ]
  },
  {
   "cell_type": "markdown",
   "metadata": {},
   "source": [
    "#### По разрешения преподавателя Ксении Стройковой реализую \"Gaussian Mixture Model с использованием maximum a-posteriori для выбора кластера (параметр - k)\""
   ]
  },
  {
   "cell_type": "markdown",
   "metadata": {},
   "source": [
    "Алгоритм кластеризации должен удовлетворять следующему интерфейсу. Конструктор принимает набор параметров, необходимых для работы алгоритма кластеризации. Метод `fit` подсчитывает параметры модели и возвращает `self`. Метод `predict` возвращает вектор с индексами кластеров для поданных в него объектов `x`"
   ]
  },
  {
   "cell_type": "markdown",
   "metadata": {},
   "source": [
    "## Задание 1"
   ]
  },
  {
   "cell_type": "code",
   "execution_count": 2,
   "metadata": {
    "collapsed": true
   },
   "outputs": [],
   "source": [
    "from scipy.spatial import distance\n",
    "from scipy.stats import multivariate_normal\n",
    "from sklearn.cluster import KMeans"
   ]
  },
  {
   "cell_type": "code",
   "execution_count": 355,
   "metadata": {
    "collapsed": false
   },
   "outputs": [],
   "source": [
    "from sklearn.base import BaseEstimator, ClusterMixin\n",
    "\n",
    "class EMClustering(BaseEstimator, ClusterMixin):\n",
    "    \"\"\"\n",
    "    Implement clustering algorithm according \n",
    "    \"\"\"\n",
    "    \n",
    "    def __init__(self, k, eps = 10 ** (-3), eps_fix = 0.000001, maxstep = 100):\n",
    "        self.k = k\n",
    "        self.eps = eps\n",
    "        self.maxstep = maxstep\n",
    "        self.eps_fix = eps_fix\n",
    "        return\n",
    "    \n",
    "    def fit(self, x, y=None):\n",
    "        # C - average values matrix (size*k)\n",
    "        # R - kovariation matrixes (k*size*size)\n",
    "        # W - weight matrix (k*1)\n",
    "\n",
    "        #size - sizeof space\n",
    "        size = x.shape[1]\n",
    "        n = x.shape[0]\n",
    "        k = self.k;\n",
    "        \n",
    "        \n",
    "        km = KMeans(k)\n",
    "        km.fit(x)\n",
    "        \n",
    "        # matrixes init \n",
    "        C = km.cluster_centers_.T.astype(dtype=np.longdouble)\n",
    "        R = np.empty((k, size, size), dtype=np.longdouble)\n",
    " \n",
    "        for i in xrange(k):\n",
    "            R[i] = np.identity(size, dtype=np.longdouble);\n",
    "        W = np.full((k, 1), 1./k, dtype=np.longdouble)\n",
    "        self.PM = np.empty((n, k), dtype=np.longdouble)\n",
    "        \n",
    "        dllh = self.eps+1;\n",
    "        llh = 0\n",
    "        step = 0 \n",
    "        \n",
    "        # Check shapes before start\n",
    "        assert(C.shape == (size, k))\n",
    "        assert(R.shape == (k, size, size))\n",
    "        assert(W.shape == (k, 1))\n",
    "        \n",
    "        while (dllh >= self.eps and step <= self.maxstep):\n",
    "            # E step\n",
    "            llh_old = llh\n",
    "            llh = 0\n",
    "            C1 = np.zeros(C.shape, dtype=np.longdouble)\n",
    "            R1 = np.zeros(R.shape)\n",
    "            W1 = np.zeros(W.shape, dtype=np.longdouble)\n",
    "            \n",
    "            for i in xrange(n):\n",
    "                sumpi = np.zeros((1), dtype=longdouble)\n",
    "\n",
    "                for j in xrange(k):\n",
    "                    self.PM[i,j] = W[j] * multivariate_normal.pdf(x[i], np.nan_to_num(C[:,j]), np.nan_to_num(R[j]), True)\n",
    "                    sumpi = sumpi + self.PM[i,j]\n",
    "                \n",
    "                self.PM[i] = self.PM[i]/sumpi\n",
    "               \n",
    "                llh = llh + math.log(sumpi)\n",
    "                W1 = W1 + self.PM[i].reshape(k, 1)\n",
    "                C1 = C1 + x[i].reshape(-1, 1).dot(self.PM[i].T.reshape(1,-1))\n",
    "           \n",
    "            # M step\n",
    "            W = W1 / n\n",
    "            for j in xrange(k):\n",
    "                C[:, j] = C1[:, j] / W1[j]\n",
    "                for i in xrange(n):\n",
    "                    R1[j] = R1[j] + ((x[i] - C[:, j]).reshape(-1, 1) * (self.PM[i, j])).dot((x[i] - C[:, j]).reshape(-1, 1).T)\n",
    "                R[j] = R1[j] / W1[j]\n",
    "            \n",
    "            step += 1\n",
    "            dllh = llh - llh_old\n",
    "            \n",
    "            dllh = np.fabs(dllh)\n",
    "        print step\n",
    "        self.R = R\n",
    "        self.W = W\n",
    "        self.C = C\n",
    "        return self\n",
    "    \n",
    "    #def predict(self, x):\n",
    "    #    n = x.shape[0]\n",
    "    #    k = self.k\n",
    "    #    P = np.empty((n, k))\n",
    "    #    Rinv = np.empty((k, x.shape[1], x.shape[1]))\n",
    "    #    detR = np.empty((k,))\n",
    "    #    for j in xrange(k): \n",
    "    #        detR[j] = np.linalg.det(self.R[j])\n",
    "    #        if detR[j] > self.eps_fix:\n",
    "    #            m = 0\n",
    "    #        else:\n",
    "    #            m = self.eps_fix\n",
    "    #            detR[j] = m\n",
    "    #        Rinv[j] = np.linalg.inv(self.R[j] + numpy.eye(x.shape[1])*m)\n",
    "    #    for i in xrange(n):\n",
    "    #        sumpi = 0\n",
    "    #        for j in xrange(k):\n",
    "    #            dist = distance.mahalanobis(x[i], self.C[:, j], Rinv[j])**2\n",
    "    #            P[i,j] = self.W[j]/((2*math.pi) ** (self.size/2.)  * detR[j] ** 0.5) * math.exp(-0.5 * dist)\n",
    "    #            sumpi = sumpi + P[i,j]\n",
    "    #        P[i] /= sumpi\n",
    "    #    return np.argmax(P, axis=1)\n",
    "    \n",
    "    def fit_predict(self, x, y=None):\n",
    "        self.fit(x, y)\n",
    "        print \"done\"\n",
    "        return np.argmax(self.PM, axis=1)"
   ]
  },
  {
   "cell_type": "markdown",
   "metadata": {},
   "source": [
    "Сначала проверим реализованный алгоритм кластеризации на классическом наборе данных [Iris](http://www.wikiwand.com/en/Iris_flower_data_set). Загрузим данные (они включены в библиотеку sklearn) и посмотрим на то, как они выглядят в двух проекциях (для простоты используем 2 класса из 3)."
   ]
  },
  {
   "cell_type": "code",
   "execution_count": 315,
   "metadata": {
    "collapsed": false,
    "scrolled": false
   },
   "outputs": [
    {
     "data": {
      "image/png": "[encoded data removed]",
      "text/plain": [
       "<matplotlib.figure.Figure at 0x151a0940>"
      ]
     },
     "metadata": {},
     "output_type": "display_data"
    }
   ],
   "source": [
    "iris = ds.load_iris()\n",
    "x_iris = iris.data[:100]\n",
    "y_iris = iris.target[:100]\n",
    "\n",
    "pl.figure(figsize=(10, 5))\n",
    "\n",
    "pl.subplot(1, 2, 1)\n",
    "pl.scatter(x_iris[:, 0], x_iris[:, 1], c=y_iris, cmap=pl.cm.PuOr, lw=0, s=30)\n",
    "plt.xlabel('Sepal length')\n",
    "plt.ylabel('Sepal width')\n",
    "\n",
    "pl.subplot(1, 2, 2)\n",
    "pl.scatter(x_iris[:, 2], x_iris[:, 3], c=y_iris, cmap=pl.cm.PuOr, lw=0, s=30)\n",
    "plt.xlabel('Petal length')\n",
    "plt.ylabel('Petal width')\n",
    "pl.show()"
   ]
  },
  {
   "cell_type": "markdown",
   "metadata": {},
   "source": [
    "Видно, что классы разделяются, поэтому можно надеяться, что наш алгоритм \"найдет\" кластеры, соответствующие исходным классам. Результат работы реализованного алгоритма кластеризации предлагается сравнить с эталонной кластеризацией. Для этого предлагается изучить метрику ([adjusted rand score](http://scikit-learn.org/stable/modules/generated/sklearn.metrics.adjusted_rand_score.html)). В случае если значение этой метрики отличается от 1, предлагается поработать над улучшением реализации своего алгоритма."
   ]
  },
  {
   "cell_type": "code",
   "execution_count": 336,
   "metadata": {
    "collapsed": false,
    "scrolled": true
   },
   "outputs": [
    {
     "name": "stdout",
     "output_type": "stream",
     "text": [
      "eps!\n",
      "4\n",
      "Adjusted Rand index for iris is: 1.00\n"
     ]
    },
    {
     "data": {
      "image/png": "[encoded data removed]",
      "text/plain": [
       "<matplotlib.figure.Figure at 0x1ee57080>"
      ]
     },
     "metadata": {},
     "output_type": "display_data"
    }
   ],
   "source": [
    "pred_iris = EMClustering(2).fit_predict(x_iris)\n",
    "pl.scatter(x_iris[:, 2], x_iris[:, 3], c=pred_iris, cmap=pl.cm.PuOr, lw=0, s=30)\n",
    "print \"Adjusted Rand index for iris is: %.2f\" % smt.adjusted_rand_score(y_iris, pred_iris)"
   ]
  },
  {
   "cell_type": "code",
   "execution_count": 341,
   "metadata": {
    "collapsed": false
   },
   "outputs": [
    {
     "name": "stdout",
     "output_type": "stream",
     "text": [
      "eps!\n",
      "4\n",
      "1 loop, best of 1: 168 ms per loop\n"
     ]
    }
   ],
   "source": [
    "%%timeit -n 1 -r 1\n",
    "pred_iris = EMClustering(2).fit_predict(x_iris)"
   ]
  },
  {
   "cell_type": "code",
   "execution_count": 143,
   "metadata": {
    "collapsed": true
   },
   "outputs": [],
   "source": [
    "from sklearn.mixture import GaussianMixture"
   ]
  },
  {
   "cell_type": "code",
   "execution_count": 342,
   "metadata": {
    "collapsed": false
   },
   "outputs": [
    {
     "name": "stdout",
     "output_type": "stream",
     "text": [
      "1 loop, best of 1: 2.82 ms per loop\n"
     ]
    }
   ],
   "source": [
    "%%timeit -n 1 -r 1\n",
    "pred_iris = GaussianMixture(n_components=2).fit(x_iris).predict(x_iris)"
   ]
  },
  {
   "cell_type": "markdown",
   "metadata": {},
   "source": [
    "#### Всего лишь в 60 раз медленнее :) Я не смог придумать, как её ускорить без переписывания на cython."
   ]
  },
  {
   "cell_type": "markdown",
   "metadata": {},
   "source": [
    "## Задание 2"
   ]
  },
  {
   "cell_type": "markdown",
   "metadata": {},
   "source": [
    "Выбрать и реализовать критерий качества, на основании которого будут подбираться параметры модели. Варианты критериев:\n",
    "- Инерция (сумма квадратов расстояний от каждой из точек до ближайшего к этой точке центроида)\n",
    "- Средний диаметр (максимальное расстояние между точками в кластере) или радиус (расстояние от центроида до самой дальней от него точки в кластере)\n",
    "- Silhouette\n",
    "\n",
    "**Критерий качества необходимо выбрать таким образом, чтобы он подходил для реализованного алгоритма**"
   ]
  },
  {
   "cell_type": "code",
   "execution_count": 145,
   "metadata": {
    "collapsed": true
   },
   "outputs": [],
   "source": [
    "from sklearn.neighbors import DistanceMetric"
   ]
  },
  {
   "cell_type": "code",
   "execution_count": 151,
   "metadata": {
    "collapsed": false
   },
   "outputs": [],
   "source": [
    "# Инерция\n",
    "def quality(X, y, k):\n",
    "    centroids = np.zeros((k, X.shape[1]));\n",
    "    cnts = np.zeros((k));\n",
    "    for i in xrange(X.shape[0]):\n",
    "        centroids[y[i]] += X[i]\n",
    "        cnts[y[i]] += 1\n",
    "    for i in xrange(k):\n",
    "        if cnts[i] != 0:\n",
    "            centroids[i] /= cnts[i]\n",
    "        else:\n",
    "            centroids[i] = inf\n",
    "    dist = DistanceMetric.get_metric(\"euclidean\")\n",
    "    res = dist.pairwise(X, centroids)\n",
    "\n",
    "    res1 = (res.min(axis = 1)).sum()\n",
    "    return res1"
   ]
  },
  {
   "cell_type": "markdown",
   "metadata": {},
   "source": [
    "Применим критерий для выбора параметров алгоритма. Предлагается изменить следующий код таким образом, чтобы кластеризация вызывалась с верным набором параметров. На графике можно будет увидеть зависимость критерия от параметров алгоритма. Необходимо выбрать оптимальные значения этих параметров."
   ]
  },
  {
   "cell_type": "code",
   "execution_count": 333,
   "metadata": {
    "collapsed": false,
    "scrolled": true
   },
   "outputs": [
    {
     "data": {
      "text/plain": [
       "<matplotlib.collections.PathCollection at 0x160d6c50>"
      ]
     },
     "execution_count": 333,
     "metadata": {},
     "output_type": "execute_result"
    },
    {
     "data": {
      "image/png": "[encoded data removed]",
      "text/plain": [
       "<matplotlib.figure.Figure at 0x2b158748>"
      ]
     },
     "metadata": {},
     "output_type": "display_data"
    }
   ],
   "source": [
    "from sklearn.datasets import make_blobs\n",
    "\n",
    "x, y_t = make_blobs(n_samples=100, n_features=2, centers=17, cluster_std=4, \n",
    "           center_box=(-100.0, 100.0), shuffle=False, random_state=1234)\n",
    "plt.scatter(x[:,0], x[:, 1], c=y_t)"
   ]
  },
  {
   "cell_type": "code",
   "execution_count": 337,
   "metadata": {
    "collapsed": false,
    "scrolled": true
   },
   "outputs": [
    {
     "name": "stdout",
     "output_type": "stream",
     "text": [
      "eps!\n",
      "48\n"
     ]
    },
    {
     "data": {
      "text/plain": [
       "<matplotlib.collections.PathCollection at 0x1c99cfd0>"
      ]
     },
     "execution_count": 337,
     "metadata": {},
     "output_type": "execute_result"
    },
    {
     "data": {
      "image/png": "[encoded data removed]",
      "text/plain": [
       "<matplotlib.figure.Figure at 0x1ee57048>"
      ]
     },
     "metadata": {},
     "output_type": "display_data"
    }
   ],
   "source": [
    "cls = EMClustering(17, maxstep=100)\n",
    "y = cls.fit_predict(x)\n",
    "plt.scatter(x[:,0], x[:, 1], c=y)"
   ]
  },
  {
   "cell_type": "code",
   "execution_count": 338,
   "metadata": {
    "collapsed": false,
    "scrolled": false
   },
   "outputs": [
    {
     "name": "stdout",
     "output_type": "stream",
     "text": [
      "eps!\n",
      "3\n",
      "eps!\n",
      "3\n",
      "eps!\n",
      "3\n",
      "eps!\n",
      "3\n",
      "eps!\n",
      "4\n",
      "eps!\n",
      "13\n",
      "eps!\n",
      "49\n",
      "eps!\n",
      "15\n",
      "eps!\n",
      "16\n"
     ]
    },
    {
     "data": {
      "image/png": "[encoded data removed]",
      "text/plain": [
       "<matplotlib.figure.Figure at 0x1c9b9cf8>"
      ]
     },
     "metadata": {},
     "output_type": "display_data"
    }
   ],
   "source": [
    "ks = range(10, 19)\n",
    "criteria = np.zeros(len(ks))\n",
    "\n",
    "for i, k in enumerate(ks):\n",
    "    cls = EMClustering(k)\n",
    "    y = cls.fit_predict(x)\n",
    "    criteria[i] = quality(x, y, k)\n",
    "pl.figure(figsize=(8, 6))\n",
    "pl.plot(ks, criteria)\n",
    "pl.title(\"$J(k)$\")\n",
    "pl.ylabel(\"Criteria $J$\")\n",
    "pl.xlabel(\"Number of clusters $k$\")\n",
    "pl.grid()\n",
    "pl.show()"
   ]
  },
  {
   "cell_type": "code",
   "execution_count": 343,
   "metadata": {
    "collapsed": false
   },
   "outputs": [
    {
     "name": "stdout",
     "output_type": "stream",
     "text": [
      "[ 985.33518623  812.60796307  657.6382259   568.9864055   502.92151892\n",
      "  470.08619982  450.78476922  449.66179151  437.51661171]\n"
     ]
    }
   ],
   "source": [
    "print criteria"
   ]
  },
  {
   "cell_type": "markdown",
   "metadata": {
    "collapsed": true
   },
   "source": [
    "## Задание 3"
   ]
  },
  {
   "cell_type": "markdown",
   "metadata": {},
   "source": [
    "Оставим только страны, удалим абсолютные значения там где есть значения в процентах, выберем год, где больше всего известных данных"
   ]
  },
  {
   "cell_type": "code",
   "execution_count": 382,
   "metadata": {
    "collapsed": false
   },
   "outputs": [
    {
     "data": {
      "text/html": [
       "<div>\n",
       "<style scoped>\n",
       "    .dataframe tbody tr th:only-of-type {\n",
       "        vertical-align: middle;\n",
       "    }\n",
       "\n",
       "    .dataframe tbody tr th {\n",
       "        vertical-align: top;\n",
       "    }\n",
       "\n",
       "    .dataframe thead th {\n",
       "        text-align: right;\n",
       "    }\n",
       "</style>\n",
       "<table border=\"1\" class=\"dataframe\">\n",
       "  <thead>\n",
       "    <tr style=\"text-align: right;\">\n",
       "      <th></th>\n",
       "      <th>Country Name</th>\n",
       "      <th>Country Code</th>\n",
       "      <th>Indicator Name</th>\n",
       "      <th>Indicator Code</th>\n",
       "      <th>1960</th>\n",
       "      <th>1961</th>\n",
       "      <th>1962</th>\n",
       "      <th>1963</th>\n",
       "      <th>1964</th>\n",
       "      <th>1965</th>\n",
       "      <th>...</th>\n",
       "      <th>2008</th>\n",
       "      <th>2009</th>\n",
       "      <th>2010</th>\n",
       "      <th>2011</th>\n",
       "      <th>2012</th>\n",
       "      <th>2013</th>\n",
       "      <th>2014</th>\n",
       "      <th>2015</th>\n",
       "      <th>2016</th>\n",
       "      <th>Unnamed: 61</th>\n",
       "    </tr>\n",
       "  </thead>\n",
       "  <tbody>\n",
       "    <tr>\n",
       "      <th>0</th>\n",
       "      <td>Arab World</td>\n",
       "      <td>ARB</td>\n",
       "      <td>2005 PPP conversion factor, GDP (LCU per inter...</td>\n",
       "      <td>PA.NUS.PPP.05</td>\n",
       "      <td>NaN</td>\n",
       "      <td>NaN</td>\n",
       "      <td>NaN</td>\n",
       "      <td>NaN</td>\n",
       "      <td>NaN</td>\n",
       "      <td>NaN</td>\n",
       "      <td>...</td>\n",
       "      <td>NaN</td>\n",
       "      <td>NaN</td>\n",
       "      <td>NaN</td>\n",
       "      <td>NaN</td>\n",
       "      <td>NaN</td>\n",
       "      <td>NaN</td>\n",
       "      <td>NaN</td>\n",
       "      <td>NaN</td>\n",
       "      <td>NaN</td>\n",
       "      <td>NaN</td>\n",
       "    </tr>\n",
       "    <tr>\n",
       "      <th>1</th>\n",
       "      <td>Arab World</td>\n",
       "      <td>ARB</td>\n",
       "      <td>2005 PPP conversion factor, private consumptio...</td>\n",
       "      <td>PA.NUS.PRVT.PP.05</td>\n",
       "      <td>NaN</td>\n",
       "      <td>NaN</td>\n",
       "      <td>NaN</td>\n",
       "      <td>NaN</td>\n",
       "      <td>NaN</td>\n",
       "      <td>NaN</td>\n",
       "      <td>...</td>\n",
       "      <td>NaN</td>\n",
       "      <td>NaN</td>\n",
       "      <td>NaN</td>\n",
       "      <td>NaN</td>\n",
       "      <td>NaN</td>\n",
       "      <td>NaN</td>\n",
       "      <td>NaN</td>\n",
       "      <td>NaN</td>\n",
       "      <td>NaN</td>\n",
       "      <td>NaN</td>\n",
       "    </tr>\n",
       "    <tr>\n",
       "      <th>2</th>\n",
       "      <td>Arab World</td>\n",
       "      <td>ARB</td>\n",
       "      <td>Access to clean fuels and technologies for coo...</td>\n",
       "      <td>EG.CFT.ACCS.ZS</td>\n",
       "      <td>NaN</td>\n",
       "      <td>NaN</td>\n",
       "      <td>NaN</td>\n",
       "      <td>NaN</td>\n",
       "      <td>NaN</td>\n",
       "      <td>NaN</td>\n",
       "      <td>...</td>\n",
       "      <td>82.831932</td>\n",
       "      <td>83.474617</td>\n",
       "      <td>84.006076</td>\n",
       "      <td>84.416148</td>\n",
       "      <td>84.734574</td>\n",
       "      <td>85.003645</td>\n",
       "      <td>85.244971</td>\n",
       "      <td>NaN</td>\n",
       "      <td>NaN</td>\n",
       "      <td>NaN</td>\n",
       "    </tr>\n",
       "    <tr>\n",
       "      <th>3</th>\n",
       "      <td>Arab World</td>\n",
       "      <td>ARB</td>\n",
       "      <td>Access to electricity (% of population)</td>\n",
       "      <td>EG.ELC.ACCS.ZS</td>\n",
       "      <td>NaN</td>\n",
       "      <td>NaN</td>\n",
       "      <td>NaN</td>\n",
       "      <td>NaN</td>\n",
       "      <td>NaN</td>\n",
       "      <td>NaN</td>\n",
       "      <td>...</td>\n",
       "      <td>85.042248</td>\n",
       "      <td>84.655338</td>\n",
       "      <td>85.955345</td>\n",
       "      <td>86.392313</td>\n",
       "      <td>86.846966</td>\n",
       "      <td>87.604961</td>\n",
       "      <td>88.039125</td>\n",
       "      <td>NaN</td>\n",
       "      <td>NaN</td>\n",
       "      <td>NaN</td>\n",
       "    </tr>\n",
       "    <tr>\n",
       "      <th>4</th>\n",
       "      <td>Arab World</td>\n",
       "      <td>ARB</td>\n",
       "      <td>Access to electricity, rural (% of rural popul...</td>\n",
       "      <td>EG.ELC.ACCS.RU.ZS</td>\n",
       "      <td>NaN</td>\n",
       "      <td>NaN</td>\n",
       "      <td>NaN</td>\n",
       "      <td>NaN</td>\n",
       "      <td>NaN</td>\n",
       "      <td>NaN</td>\n",
       "      <td>...</td>\n",
       "      <td>72.292323</td>\n",
       "      <td>71.765345</td>\n",
       "      <td>73.734266</td>\n",
       "      <td>74.500717</td>\n",
       "      <td>75.218497</td>\n",
       "      <td>76.712250</td>\n",
       "      <td>77.407269</td>\n",
       "      <td>NaN</td>\n",
       "      <td>NaN</td>\n",
       "      <td>NaN</td>\n",
       "    </tr>\n",
       "  </tbody>\n",
       "</table>\n",
       "<p>5 rows × 62 columns</p>\n",
       "</div>"
      ],
      "text/plain": [
       "  Country Name Country Code  \\\n",
       "0   Arab World          ARB   \n",
       "1   Arab World          ARB   \n",
       "2   Arab World          ARB   \n",
       "3   Arab World          ARB   \n",
       "4   Arab World          ARB   \n",
       "\n",
       "                                      Indicator Name     Indicator Code  1960  \\\n",
       "0  2005 PPP conversion factor, GDP (LCU per inter...      PA.NUS.PPP.05   NaN   \n",
       "1  2005 PPP conversion factor, private consumptio...  PA.NUS.PRVT.PP.05   NaN   \n",
       "2  Access to clean fuels and technologies for coo...     EG.CFT.ACCS.ZS   NaN   \n",
       "3            Access to electricity (% of population)     EG.ELC.ACCS.ZS   NaN   \n",
       "4  Access to electricity, rural (% of rural popul...  EG.ELC.ACCS.RU.ZS   NaN   \n",
       "\n",
       "   1961  1962  1963  1964  1965     ...            2008       2009       2010  \\\n",
       "0   NaN   NaN   NaN   NaN   NaN     ...             NaN        NaN        NaN   \n",
       "1   NaN   NaN   NaN   NaN   NaN     ...             NaN        NaN        NaN   \n",
       "2   NaN   NaN   NaN   NaN   NaN     ...       82.831932  83.474617  84.006076   \n",
       "3   NaN   NaN   NaN   NaN   NaN     ...       85.042248  84.655338  85.955345   \n",
       "4   NaN   NaN   NaN   NaN   NaN     ...       72.292323  71.765345  73.734266   \n",
       "\n",
       "        2011       2012       2013       2014  2015  2016  Unnamed: 61  \n",
       "0        NaN        NaN        NaN        NaN   NaN   NaN          NaN  \n",
       "1        NaN        NaN        NaN        NaN   NaN   NaN          NaN  \n",
       "2  84.416148  84.734574  85.003645  85.244971   NaN   NaN          NaN  \n",
       "3  86.392313  86.846966  87.604961  88.039125   NaN   NaN          NaN  \n",
       "4  74.500717  75.218497  76.712250  77.407269   NaN   NaN          NaN  \n",
       "\n",
       "[5 rows x 62 columns]"
      ]
     },
     "execution_count": 382,
     "metadata": {},
     "output_type": "execute_result"
    }
   ],
   "source": [
    "df = pd.read_csv('WDIData.csv')\n",
    "df = df[0:-2]\n",
    "df.head()"
   ]
  },
  {
   "cell_type": "code",
   "execution_count": 411,
   "metadata": {
    "collapsed": false
   },
   "outputs": [],
   "source": [
    "df = df[df[\"Country Name\"] != \"Arab World\"]\n",
    "df = df[df[\"Country Name\"] != \"Caribbean small states\"]\n",
    "df = df[df[\"Country Name\"] != \"Central Europe and the Baltics\"]\n",
    "df = df[df[\"Country Name\"] != \"Early-demographic dividend\"]\n",
    "df = df[df[\"Country Name\"] != \"East Asia & Pacific\"]\n",
    "df = df[df[\"Country Name\"] != \"East Asia & Pacific (excluding high income)\"]\n",
    "df = df[df[\"Country Name\"] != \"East Asia & Pacific (IDA & IBRD countries)\"]\n",
    "df = df[df[\"Country Name\"] != \"Euro area\"]\n",
    "df = df[df[\"Country Name\"] != \"Europe & Central Asia\"]\n",
    "df = df[df[\"Country Name\"] != \"Europe & Central Asia (excluding high income)\"]\n",
    "df = df[df[\"Country Name\"] != \"Europe & Central Asia (IDA & IBRD countries)\"]\n",
    "df = df[df[\"Country Name\"] != \"European Union\"]\n",
    "df = df[df[\"Country Name\"] != \"Fragile and conflict affected situations\"]\n",
    "df = df[df[\"Country Name\"] != \"Heavily indebted poor countries (HIPC)\"]\n",
    "df = df[df[\"Country Name\"] != \"High income\"]\n",
    "df = df[df[\"Country Name\"] != \"IBRD only\"]\n",
    "df = df[df[\"Country Name\"] != \"IDA & IBRD total\"]\n",
    "df = df[df[\"Country Name\"] != \"IDA blend\"]\n",
    "df = df[df[\"Country Name\"] != \"IDA only\"]\n",
    "df = df[df[\"Country Name\"] != \"IDA total\"]\n",
    "df = df[df[\"Country Name\"] != \"Late-demographic dividend\"]\n",
    "df = df[df[\"Country Name\"] != \"Latin America & Caribbean\"]\n",
    "df = df[df[\"Country Name\"] != \"Latin America & Caribbean (excluding high income)\"]"
   ]
  },
  {
   "cell_type": "code",
   "execution_count": 430,
   "metadata": {
    "collapsed": false
   },
   "outputs": [],
   "source": [
    "df = df[df[\"Country Code\"] != \"TLA\"]\n",
    "df = df[df[\"Country Name\"] != \"Least developed countries: UN classification\"]\n",
    "df = df[df[\"Country Name\"] != \"Low & middle income\"]\n",
    "df = df[df[\"Country Name\"] != \"Low income\"]\n",
    "df = df[df[\"Country Name\"] != \"Lower middle income\"]\n",
    "df = df[df[\"Country Name\"] != \"Middle East & North Africa\"]\n",
    "df = df[df[\"Country Code\"] != \"MNA\"]\n",
    "df = df[df[\"Country Name\"] != \"Middle East & North Africa (IDA & IBRD countries)\"]\n",
    "df = df[df[\"Country Name\"] != \"Middle income\"]\n",
    "df = df[df[\"Country Name\"] != \"North America\"]\n",
    "df = df[df[\"Country Name\"] != \"Not classified\"]\n",
    "df = df[df[\"Country Name\"] != \"OECD members\"]\n",
    "df = df[df[\"Country Name\"] != \"Other small states\"]\n",
    "df = df[df[\"Country Name\"] != \"Pacific island small states\"]\n",
    "df = df[df[\"Country Name\"] != \"Pre-demographic dividend\"]\n",
    "df = df[df[\"Country Name\"] != \"Small states\"]"
   ]
  },
  {
   "cell_type": "code",
   "execution_count": 438,
   "metadata": {
    "collapsed": false
   },
   "outputs": [
    {
     "data": {
      "text/html": [
       "<div>\n",
       "<style scoped>\n",
       "    .dataframe tbody tr th:only-of-type {\n",
       "        vertical-align: middle;\n",
       "    }\n",
       "\n",
       "    .dataframe tbody tr th {\n",
       "        vertical-align: top;\n",
       "    }\n",
       "\n",
       "    .dataframe thead th {\n",
       "        text-align: right;\n",
       "    }\n",
       "</style>\n",
       "<table border=\"1\" class=\"dataframe\">\n",
       "  <thead>\n",
       "    <tr style=\"text-align: right;\">\n",
       "      <th></th>\n",
       "      <th>Country Name</th>\n",
       "      <th>Country Code</th>\n",
       "      <th>Indicator Name</th>\n",
       "      <th>Indicator Code</th>\n",
       "      <th>1960</th>\n",
       "      <th>1961</th>\n",
       "      <th>1962</th>\n",
       "      <th>1963</th>\n",
       "      <th>1964</th>\n",
       "      <th>1965</th>\n",
       "      <th>...</th>\n",
       "      <th>2008</th>\n",
       "      <th>2009</th>\n",
       "      <th>2010</th>\n",
       "      <th>2011</th>\n",
       "      <th>2012</th>\n",
       "      <th>2013</th>\n",
       "      <th>2014</th>\n",
       "      <th>2015</th>\n",
       "      <th>2016</th>\n",
       "      <th>Unnamed: 61</th>\n",
       "    </tr>\n",
       "  </thead>\n",
       "  <tbody>\n",
       "    <tr>\n",
       "      <th>72991</th>\n",
       "      <td>Afghanistan</td>\n",
       "      <td>AFG</td>\n",
       "      <td>2005 PPP conversion factor, GDP (LCU per inter...</td>\n",
       "      <td>PA.NUS.PPP.05</td>\n",
       "      <td>NaN</td>\n",
       "      <td>NaN</td>\n",
       "      <td>NaN</td>\n",
       "      <td>NaN</td>\n",
       "      <td>NaN</td>\n",
       "      <td>NaN</td>\n",
       "      <td>...</td>\n",
       "      <td>NaN</td>\n",
       "      <td>NaN</td>\n",
       "      <td>NaN</td>\n",
       "      <td>NaN</td>\n",
       "      <td>NaN</td>\n",
       "      <td>NaN</td>\n",
       "      <td>NaN</td>\n",
       "      <td>NaN</td>\n",
       "      <td>NaN</td>\n",
       "      <td>NaN</td>\n",
       "    </tr>\n",
       "    <tr>\n",
       "      <th>72992</th>\n",
       "      <td>Afghanistan</td>\n",
       "      <td>AFG</td>\n",
       "      <td>2005 PPP conversion factor, private consumptio...</td>\n",
       "      <td>PA.NUS.PRVT.PP.05</td>\n",
       "      <td>NaN</td>\n",
       "      <td>NaN</td>\n",
       "      <td>NaN</td>\n",
       "      <td>NaN</td>\n",
       "      <td>NaN</td>\n",
       "      <td>NaN</td>\n",
       "      <td>...</td>\n",
       "      <td>NaN</td>\n",
       "      <td>NaN</td>\n",
       "      <td>NaN</td>\n",
       "      <td>NaN</td>\n",
       "      <td>NaN</td>\n",
       "      <td>NaN</td>\n",
       "      <td>NaN</td>\n",
       "      <td>NaN</td>\n",
       "      <td>NaN</td>\n",
       "      <td>NaN</td>\n",
       "    </tr>\n",
       "    <tr>\n",
       "      <th>72993</th>\n",
       "      <td>Afghanistan</td>\n",
       "      <td>AFG</td>\n",
       "      <td>Access to clean fuels and technologies for coo...</td>\n",
       "      <td>EG.CFT.ACCS.ZS</td>\n",
       "      <td>NaN</td>\n",
       "      <td>NaN</td>\n",
       "      <td>NaN</td>\n",
       "      <td>NaN</td>\n",
       "      <td>NaN</td>\n",
       "      <td>NaN</td>\n",
       "      <td>...</td>\n",
       "      <td>19.774789</td>\n",
       "      <td>19.365638</td>\n",
       "      <td>18.955386</td>\n",
       "      <td>18.544137</td>\n",
       "      <td>18.132025</td>\n",
       "      <td>17.719179</td>\n",
       "      <td>17.305714</td>\n",
       "      <td>NaN</td>\n",
       "      <td>NaN</td>\n",
       "      <td>NaN</td>\n",
       "    </tr>\n",
       "    <tr>\n",
       "      <th>72994</th>\n",
       "      <td>Afghanistan</td>\n",
       "      <td>AFG</td>\n",
       "      <td>Access to electricity (% of population)</td>\n",
       "      <td>EG.ELC.ACCS.ZS</td>\n",
       "      <td>NaN</td>\n",
       "      <td>NaN</td>\n",
       "      <td>NaN</td>\n",
       "      <td>NaN</td>\n",
       "      <td>NaN</td>\n",
       "      <td>NaN</td>\n",
       "      <td>...</td>\n",
       "      <td>42.400000</td>\n",
       "      <td>47.888466</td>\n",
       "      <td>42.700000</td>\n",
       "      <td>61.514420</td>\n",
       "      <td>69.100000</td>\n",
       "      <td>75.154373</td>\n",
       "      <td>89.500000</td>\n",
       "      <td>NaN</td>\n",
       "      <td>NaN</td>\n",
       "      <td>NaN</td>\n",
       "    </tr>\n",
       "    <tr>\n",
       "      <th>72995</th>\n",
       "      <td>Afghanistan</td>\n",
       "      <td>AFG</td>\n",
       "      <td>Access to electricity, rural (% of rural popul...</td>\n",
       "      <td>EG.ELC.ACCS.RU.ZS</td>\n",
       "      <td>NaN</td>\n",
       "      <td>NaN</td>\n",
       "      <td>NaN</td>\n",
       "      <td>NaN</td>\n",
       "      <td>NaN</td>\n",
       "      <td>NaN</td>\n",
       "      <td>...</td>\n",
       "      <td>32.500000</td>\n",
       "      <td>39.877850</td>\n",
       "      <td>32.400000</td>\n",
       "      <td>54.988701</td>\n",
       "      <td>63.800000</td>\n",
       "      <td>70.129379</td>\n",
       "      <td>87.800000</td>\n",
       "      <td>NaN</td>\n",
       "      <td>NaN</td>\n",
       "      <td>NaN</td>\n",
       "    </tr>\n",
       "  </tbody>\n",
       "</table>\n",
       "<p>5 rows × 62 columns</p>\n",
       "</div>"
      ],
      "text/plain": [
       "      Country Name Country Code  \\\n",
       "72991  Afghanistan          AFG   \n",
       "72992  Afghanistan          AFG   \n",
       "72993  Afghanistan          AFG   \n",
       "72994  Afghanistan          AFG   \n",
       "72995  Afghanistan          AFG   \n",
       "\n",
       "                                          Indicator Name     Indicator Code  \\\n",
       "72991  2005 PPP conversion factor, GDP (LCU per inter...      PA.NUS.PPP.05   \n",
       "72992  2005 PPP conversion factor, private consumptio...  PA.NUS.PRVT.PP.05   \n",
       "72993  Access to clean fuels and technologies for coo...     EG.CFT.ACCS.ZS   \n",
       "72994            Access to electricity (% of population)     EG.ELC.ACCS.ZS   \n",
       "72995  Access to electricity, rural (% of rural popul...  EG.ELC.ACCS.RU.ZS   \n",
       "\n",
       "       1960  1961  1962  1963  1964  1965     ...            2008       2009  \\\n",
       "72991   NaN   NaN   NaN   NaN   NaN   NaN     ...             NaN        NaN   \n",
       "72992   NaN   NaN   NaN   NaN   NaN   NaN     ...             NaN        NaN   \n",
       "72993   NaN   NaN   NaN   NaN   NaN   NaN     ...       19.774789  19.365638   \n",
       "72994   NaN   NaN   NaN   NaN   NaN   NaN     ...       42.400000  47.888466   \n",
       "72995   NaN   NaN   NaN   NaN   NaN   NaN     ...       32.500000  39.877850   \n",
       "\n",
       "            2010       2011       2012       2013       2014  2015  2016  \\\n",
       "72991        NaN        NaN        NaN        NaN        NaN   NaN   NaN   \n",
       "72992        NaN        NaN        NaN        NaN        NaN   NaN   NaN   \n",
       "72993  18.955386  18.544137  18.132025  17.719179  17.305714   NaN   NaN   \n",
       "72994  42.700000  61.514420  69.100000  75.154373  89.500000   NaN   NaN   \n",
       "72995  32.400000  54.988701  63.800000  70.129379  87.800000   NaN   NaN   \n",
       "\n",
       "       Unnamed: 61  \n",
       "72991          NaN  \n",
       "72992          NaN  \n",
       "72993          NaN  \n",
       "72994          NaN  \n",
       "72995          NaN  \n",
       "\n",
       "[5 rows x 62 columns]"
      ]
     },
     "execution_count": 438,
     "metadata": {},
     "output_type": "execute_result"
    }
   ],
   "source": [
    "df = df[df[\"Country Name\"] != \"South Asia\"]\n",
    "df = df[df[\"Country Name\"] != \"South Asia (IDA & IBRD)\"]\n",
    "df = df[df[\"Country Name\"] != \"Sub-Saharan Africa\"]\n",
    "df = df[df[\"Country Name\"] != \"Sub-Saharan Africa (excluding high income)\"]\n",
    "df = df[df[\"Country Name\"] != \"Sub-Saharan Africa (IDA & IBRD countries)\"]\n",
    "df = df[df[\"Country Name\"] != \"Upper middle income\"]\n",
    "df = df[df[\"Country Name\"] != \"World\"]\n",
    "\n",
    "df.head()"
   ]
  },
  {
   "cell_type": "markdown",
   "metadata": {},
   "source": [
    "Почему они не сделали для этого отдельную табличку?"
   ]
  },
  {
   "cell_type": "code",
   "execution_count": 439,
   "metadata": {
    "collapsed": false
   },
   "outputs": [
    {
     "name": "stdout",
     "output_type": "stream",
     "text": [
      "2010\n"
     ]
    }
   ],
   "source": [
    "m = 0\n",
    "my = 0\n",
    "for i in xrange(2016-1960+1):\n",
    "    year = 1960 + i\n",
    "    c = df[[\"Country Name\", \"Indicator Name\", str(year)]].dropna(axis=0).shape[0]\n",
    "    \n",
    "    if c > m:\n",
    "        m = c\n",
    "        my = year\n",
    "print my"
   ]
  },
  {
   "cell_type": "code",
   "execution_count": 440,
   "metadata": {
    "collapsed": false
   },
   "outputs": [],
   "source": [
    "df2010 = df[[\"Country Name\", \"Indicator Name\", str(my)]].dropna(axis=0)"
   ]
  },
  {
   "cell_type": "code",
   "execution_count": 441,
   "metadata": {
    "collapsed": false
   },
   "outputs": [
    {
     "data": {
      "text/html": [
       "<div>\n",
       "<style scoped>\n",
       "    .dataframe tbody tr th:only-of-type {\n",
       "        vertical-align: middle;\n",
       "    }\n",
       "\n",
       "    .dataframe tbody tr th {\n",
       "        vertical-align: top;\n",
       "    }\n",
       "\n",
       "    .dataframe thead th {\n",
       "        text-align: right;\n",
       "    }\n",
       "</style>\n",
       "<table border=\"1\" class=\"dataframe\">\n",
       "  <thead>\n",
       "    <tr style=\"text-align: right;\">\n",
       "      <th>Indicator Name</th>\n",
       "      <th>ARI treatment (% of children under 5 taken to a health provider)</th>\n",
       "      <th>Access to clean fuels and technologies for cooking  (% of population)</th>\n",
       "      <th>Access to electricity (% of population)</th>\n",
       "      <th>Access to electricity, rural (% of rural population)</th>\n",
       "      <th>Access to electricity, urban (% of urban population)</th>\n",
       "      <th>Adequacy of social insurance programs (% of total welfare of beneficiary households)</th>\n",
       "      <th>Adequacy of social protection and labor programs (% of total welfare of beneficiary households)</th>\n",
       "      <th>Adequacy of social safety net programs (% of total welfare of beneficiary households)</th>\n",
       "      <th>Adequacy of unemployment benefits and ALMP (% of total welfare of beneficiary households)</th>\n",
       "      <th>Adjusted net enrollment rate, primary (% of primary school age children)</th>\n",
       "      <th>...</th>\n",
       "      <th>Wholesale price index (2010 = 100)</th>\n",
       "      <th>Women participating in the three decisions (own health care, major household purchases, and visiting family) (% of women age 15-49)</th>\n",
       "      <th>Women who believe a husband is justified in beating his wife (any of five reasons) (%)</th>\n",
       "      <th>Women who believe a husband is justified in beating his wife when she argues with him (%)</th>\n",
       "      <th>Women who believe a husband is justified in beating his wife when she burns the food (%)</th>\n",
       "      <th>Women who believe a husband is justified in beating his wife when she goes out without telling him (%)</th>\n",
       "      <th>Women who believe a husband is justified in beating his wife when she neglects the children (%)</th>\n",
       "      <th>Women who believe a husband is justified in beating his wife when she refuses sex with him (%)</th>\n",
       "      <th>Women who were first married by age 18 (% of women ages 20-24)</th>\n",
       "      <th>Women's share of population ages 15+ living with HIV (%)</th>\n",
       "    </tr>\n",
       "    <tr>\n",
       "      <th>Country Name</th>\n",
       "      <th></th>\n",
       "      <th></th>\n",
       "      <th></th>\n",
       "      <th></th>\n",
       "      <th></th>\n",
       "      <th></th>\n",
       "      <th></th>\n",
       "      <th></th>\n",
       "      <th></th>\n",
       "      <th></th>\n",
       "      <th></th>\n",
       "      <th></th>\n",
       "      <th></th>\n",
       "      <th></th>\n",
       "      <th></th>\n",
       "      <th></th>\n",
       "      <th></th>\n",
       "      <th></th>\n",
       "      <th></th>\n",
       "      <th></th>\n",
       "      <th></th>\n",
       "    </tr>\n",
       "  </thead>\n",
       "  <tbody>\n",
       "    <tr>\n",
       "      <th>Afghanistan</th>\n",
       "      <td>NaN</td>\n",
       "      <td>18.955386</td>\n",
       "      <td>42.700000</td>\n",
       "      <td>32.400000</td>\n",
       "      <td>82.8</td>\n",
       "      <td>NaN</td>\n",
       "      <td>NaN</td>\n",
       "      <td>NaN</td>\n",
       "      <td>NaN</td>\n",
       "      <td>NaN</td>\n",
       "      <td>...</td>\n",
       "      <td>NaN</td>\n",
       "      <td>NaN</td>\n",
       "      <td>NaN</td>\n",
       "      <td>NaN</td>\n",
       "      <td>NaN</td>\n",
       "      <td>NaN</td>\n",
       "      <td>NaN</td>\n",
       "      <td>NaN</td>\n",
       "      <td>NaN</td>\n",
       "      <td>28.642105</td>\n",
       "    </tr>\n",
       "    <tr>\n",
       "      <th>Albania</th>\n",
       "      <td>NaN</td>\n",
       "      <td>61.763644</td>\n",
       "      <td>100.000000</td>\n",
       "      <td>100.000000</td>\n",
       "      <td>100.0</td>\n",
       "      <td>NaN</td>\n",
       "      <td>NaN</td>\n",
       "      <td>NaN</td>\n",
       "      <td>NaN</td>\n",
       "      <td>91.033867</td>\n",
       "      <td>...</td>\n",
       "      <td>NaN</td>\n",
       "      <td>NaN</td>\n",
       "      <td>NaN</td>\n",
       "      <td>NaN</td>\n",
       "      <td>NaN</td>\n",
       "      <td>NaN</td>\n",
       "      <td>NaN</td>\n",
       "      <td>NaN</td>\n",
       "      <td>NaN</td>\n",
       "      <td>29.373536</td>\n",
       "    </tr>\n",
       "    <tr>\n",
       "      <th>Algeria</th>\n",
       "      <td>NaN</td>\n",
       "      <td>99.969707</td>\n",
       "      <td>99.711174</td>\n",
       "      <td>98.133492</td>\n",
       "      <td>100.0</td>\n",
       "      <td>NaN</td>\n",
       "      <td>NaN</td>\n",
       "      <td>NaN</td>\n",
       "      <td>NaN</td>\n",
       "      <td>98.660477</td>\n",
       "      <td>...</td>\n",
       "      <td>NaN</td>\n",
       "      <td>NaN</td>\n",
       "      <td>NaN</td>\n",
       "      <td>NaN</td>\n",
       "      <td>NaN</td>\n",
       "      <td>NaN</td>\n",
       "      <td>NaN</td>\n",
       "      <td>NaN</td>\n",
       "      <td>NaN</td>\n",
       "      <td>44.078491</td>\n",
       "    </tr>\n",
       "    <tr>\n",
       "      <th>American Samoa</th>\n",
       "      <td>NaN</td>\n",
       "      <td>NaN</td>\n",
       "      <td>NaN</td>\n",
       "      <td>NaN</td>\n",
       "      <td>NaN</td>\n",
       "      <td>NaN</td>\n",
       "      <td>NaN</td>\n",
       "      <td>NaN</td>\n",
       "      <td>NaN</td>\n",
       "      <td>NaN</td>\n",
       "      <td>...</td>\n",
       "      <td>NaN</td>\n",
       "      <td>NaN</td>\n",
       "      <td>NaN</td>\n",
       "      <td>NaN</td>\n",
       "      <td>NaN</td>\n",
       "      <td>NaN</td>\n",
       "      <td>NaN</td>\n",
       "      <td>NaN</td>\n",
       "      <td>NaN</td>\n",
       "      <td>NaN</td>\n",
       "    </tr>\n",
       "    <tr>\n",
       "      <th>Andorra</th>\n",
       "      <td>NaN</td>\n",
       "      <td>100.000000</td>\n",
       "      <td>100.000000</td>\n",
       "      <td>100.000000</td>\n",
       "      <td>100.0</td>\n",
       "      <td>NaN</td>\n",
       "      <td>NaN</td>\n",
       "      <td>NaN</td>\n",
       "      <td>NaN</td>\n",
       "      <td>NaN</td>\n",
       "      <td>...</td>\n",
       "      <td>NaN</td>\n",
       "      <td>NaN</td>\n",
       "      <td>NaN</td>\n",
       "      <td>NaN</td>\n",
       "      <td>NaN</td>\n",
       "      <td>NaN</td>\n",
       "      <td>NaN</td>\n",
       "      <td>NaN</td>\n",
       "      <td>NaN</td>\n",
       "      <td>NaN</td>\n",
       "    </tr>\n",
       "  </tbody>\n",
       "</table>\n",
       "<p>5 rows × 1462 columns</p>\n",
       "</div>"
      ],
      "text/plain": [
       "Indicator Name  ARI treatment (% of children under 5 taken to a health provider)  \\\n",
       "Country Name                                                                       \n",
       "Afghanistan                                                   NaN                  \n",
       "Albania                                                       NaN                  \n",
       "Algeria                                                       NaN                  \n",
       "American Samoa                                                NaN                  \n",
       "Andorra                                                       NaN                  \n",
       "\n",
       "Indicator Name  Access to clean fuels and technologies for cooking  (% of population)  \\\n",
       "Country Name                                                                            \n",
       "Afghanistan                                             18.955386                       \n",
       "Albania                                                 61.763644                       \n",
       "Algeria                                                 99.969707                       \n",
       "American Samoa                                                NaN                       \n",
       "Andorra                                                100.000000                       \n",
       "\n",
       "Indicator Name  Access to electricity (% of population)  \\\n",
       "Country Name                                              \n",
       "Afghanistan                                   42.700000   \n",
       "Albania                                      100.000000   \n",
       "Algeria                                       99.711174   \n",
       "American Samoa                                      NaN   \n",
       "Andorra                                      100.000000   \n",
       "\n",
       "Indicator Name  Access to electricity, rural (% of rural population)  \\\n",
       "Country Name                                                           \n",
       "Afghanistan                                             32.400000      \n",
       "Albania                                                100.000000      \n",
       "Algeria                                                 98.133492      \n",
       "American Samoa                                                NaN      \n",
       "Andorra                                                100.000000      \n",
       "\n",
       "Indicator Name  Access to electricity, urban (% of urban population)  \\\n",
       "Country Name                                                           \n",
       "Afghanistan                                                  82.8      \n",
       "Albania                                                     100.0      \n",
       "Algeria                                                     100.0      \n",
       "American Samoa                                                NaN      \n",
       "Andorra                                                     100.0      \n",
       "\n",
       "Indicator Name  Adequacy of social insurance programs (% of total welfare of beneficiary households)  \\\n",
       "Country Name                                                                                           \n",
       "Afghanistan                                                   NaN                                      \n",
       "Albania                                                       NaN                                      \n",
       "Algeria                                                       NaN                                      \n",
       "American Samoa                                                NaN                                      \n",
       "Andorra                                                       NaN                                      \n",
       "\n",
       "Indicator Name  Adequacy of social protection and labor programs (% of total welfare of beneficiary households)  \\\n",
       "Country Name                                                                                                      \n",
       "Afghanistan                                                   NaN                                                 \n",
       "Albania                                                       NaN                                                 \n",
       "Algeria                                                       NaN                                                 \n",
       "American Samoa                                                NaN                                                 \n",
       "Andorra                                                       NaN                                                 \n",
       "\n",
       "Indicator Name  Adequacy of social safety net programs (% of total welfare of beneficiary households)  \\\n",
       "Country Name                                                                                            \n",
       "Afghanistan                                                   NaN                                       \n",
       "Albania                                                       NaN                                       \n",
       "Algeria                                                       NaN                                       \n",
       "American Samoa                                                NaN                                       \n",
       "Andorra                                                       NaN                                       \n",
       "\n",
       "Indicator Name  Adequacy of unemployment benefits and ALMP (% of total welfare of beneficiary households)  \\\n",
       "Country Name                                                                                                \n",
       "Afghanistan                                                   NaN                                           \n",
       "Albania                                                       NaN                                           \n",
       "Algeria                                                       NaN                                           \n",
       "American Samoa                                                NaN                                           \n",
       "Andorra                                                       NaN                                           \n",
       "\n",
       "Indicator Name  Adjusted net enrollment rate, primary (% of primary school age children)  \\\n",
       "Country Name                                                                               \n",
       "Afghanistan                                                   NaN                          \n",
       "Albania                                                 91.033867                          \n",
       "Algeria                                                 98.660477                          \n",
       "American Samoa                                                NaN                          \n",
       "Andorra                                                       NaN                          \n",
       "\n",
       "Indicator Name                            ...                             \\\n",
       "Country Name                              ...                              \n",
       "Afghanistan                               ...                              \n",
       "Albania                                   ...                              \n",
       "Algeria                                   ...                              \n",
       "American Samoa                            ...                              \n",
       "Andorra                                   ...                              \n",
       "\n",
       "Indicator Name  Wholesale price index (2010 = 100)  \\\n",
       "Country Name                                         \n",
       "Afghanistan                                    NaN   \n",
       "Albania                                        NaN   \n",
       "Algeria                                        NaN   \n",
       "American Samoa                                 NaN   \n",
       "Andorra                                        NaN   \n",
       "\n",
       "Indicator Name  Women participating in the three decisions (own health care, major household purchases, and visiting family) (% of women age 15-49)  \\\n",
       "Country Name                                                                                                                                          \n",
       "Afghanistan                                                   NaN                                                                                     \n",
       "Albania                                                       NaN                                                                                     \n",
       "Algeria                                                       NaN                                                                                     \n",
       "American Samoa                                                NaN                                                                                     \n",
       "Andorra                                                       NaN                                                                                     \n",
       "\n",
       "Indicator Name  Women who believe a husband is justified in beating his wife (any of five reasons) (%)  \\\n",
       "Country Name                                                                                             \n",
       "Afghanistan                                                   NaN                                        \n",
       "Albania                                                       NaN                                        \n",
       "Algeria                                                       NaN                                        \n",
       "American Samoa                                                NaN                                        \n",
       "Andorra                                                       NaN                                        \n",
       "\n",
       "Indicator Name  Women who believe a husband is justified in beating his wife when she argues with him (%)  \\\n",
       "Country Name                                                                                                \n",
       "Afghanistan                                                   NaN                                           \n",
       "Albania                                                       NaN                                           \n",
       "Algeria                                                       NaN                                           \n",
       "American Samoa                                                NaN                                           \n",
       "Andorra                                                       NaN                                           \n",
       "\n",
       "Indicator Name  Women who believe a husband is justified in beating his wife when she burns the food (%)  \\\n",
       "Country Name                                                                                               \n",
       "Afghanistan                                                   NaN                                          \n",
       "Albania                                                       NaN                                          \n",
       "Algeria                                                       NaN                                          \n",
       "American Samoa                                                NaN                                          \n",
       "Andorra                                                       NaN                                          \n",
       "\n",
       "Indicator Name  Women who believe a husband is justified in beating his wife when she goes out without telling him (%)  \\\n",
       "Country Name                                                                                                             \n",
       "Afghanistan                                                   NaN                                                        \n",
       "Albania                                                       NaN                                                        \n",
       "Algeria                                                       NaN                                                        \n",
       "American Samoa                                                NaN                                                        \n",
       "Andorra                                                       NaN                                                        \n",
       "\n",
       "Indicator Name  Women who believe a husband is justified in beating his wife when she neglects the children (%)  \\\n",
       "Country Name                                                                                                      \n",
       "Afghanistan                                                   NaN                                                 \n",
       "Albania                                                       NaN                                                 \n",
       "Algeria                                                       NaN                                                 \n",
       "American Samoa                                                NaN                                                 \n",
       "Andorra                                                       NaN                                                 \n",
       "\n",
       "Indicator Name  Women who believe a husband is justified in beating his wife when she refuses sex with him (%)  \\\n",
       "Country Name                                                                                                     \n",
       "Afghanistan                                                   NaN                                                \n",
       "Albania                                                       NaN                                                \n",
       "Algeria                                                       NaN                                                \n",
       "American Samoa                                                NaN                                                \n",
       "Andorra                                                       NaN                                                \n",
       "\n",
       "Indicator Name  Women who were first married by age 18 (% of women ages 20-24)  \\\n",
       "Country Name                                                                     \n",
       "Afghanistan                                                   NaN                \n",
       "Albania                                                       NaN                \n",
       "Algeria                                                       NaN                \n",
       "American Samoa                                                NaN                \n",
       "Andorra                                                       NaN                \n",
       "\n",
       "Indicator Name  Women's share of population ages 15+ living with HIV (%)  \n",
       "Country Name                                                              \n",
       "Afghanistan                                             28.642105         \n",
       "Albania                                                 29.373536         \n",
       "Algeria                                                 44.078491         \n",
       "American Samoa                                                NaN         \n",
       "Andorra                                                       NaN         \n",
       "\n",
       "[5 rows x 1462 columns]"
      ]
     },
     "execution_count": 441,
     "metadata": {},
     "output_type": "execute_result"
    }
   ],
   "source": [
    "dfpivot = df2010.pivot(columns=\"Indicator Name\", values=str(my), index=\"Country Name\")\n",
    "dfpivot.head()"
   ]
  },
  {
   "cell_type": "markdown",
   "metadata": {},
   "source": [
    "Слишком много NaN нужно отобрать столбцы, где мало NaN и удалить страны которые имеют NaN в этих столбцах"
   ]
  },
  {
   "cell_type": "code",
   "execution_count": 442,
   "metadata": {
    "collapsed": false
   },
   "outputs": [
    {
     "data": {
      "text/plain": [
       "False    1424\n",
       "True       38\n",
       "dtype: int64"
      ]
     },
     "execution_count": 442,
     "metadata": {},
     "output_type": "execute_result"
    }
   ],
   "source": [
    "aa = (dfpivot.isnull().sum() < 11)\n",
    "aa.value_counts()"
   ]
  },
  {
   "cell_type": "code",
   "execution_count": 444,
   "metadata": {
    "collapsed": false,
    "scrolled": false
   },
   "outputs": [
    {
     "name": "stdout",
     "output_type": "stream",
     "text": [
      "(217, 38)\n",
      "(183, 38)\n"
     ]
    }
   ],
   "source": [
    "dfpivot1 = dfpivot.loc[:, aa]\n",
    "print dfpivot1.shape\n",
    "dfpivot1 = dfpivot1.dropna(axis=0)\n",
    "print dfpivot1.shape\n",
    "df_dfpivot = pd.DataFrame(dfpivot1)"
   ]
  },
  {
   "cell_type": "markdown",
   "metadata": {},
   "source": [
    "Удалим лишнии абсолютные величины"
   ]
  },
  {
   "cell_type": "code",
   "execution_count": 462,
   "metadata": {
    "collapsed": false
   },
   "outputs": [
    {
     "data": {
      "text/plain": [
       "Index([u'Access to electricity (% of population)',\n",
       "       u'Access to electricity, rural (% of rural population)',\n",
       "       u'Access to electricity, urban (% of urban population)',\n",
       "       u'Adjusted savings: mineral depletion (current US$)',\n",
       "       u'Agricultural land (% of land area)', u'Agricultural land (sq. km)',\n",
       "       u'Arable land (% of land area)', u'Arable land (hectares per person)',\n",
       "       u'Arable land (hectares)', u'Birth rate, crude (per 1,000 people)',\n",
       "       u'Capture fisheries production (metric tons)',\n",
       "       u'Fixed telephone subscriptions',\n",
       "       u'Fixed telephone subscriptions (per 100 people)',\n",
       "       u'Forest area (% of land area)', u'Forest area (sq. km)',\n",
       "       u'Incidence of tuberculosis (per 100,000 people)',\n",
       "       u'International migrant stock (% of population)',\n",
       "       u'International migrant stock, total', u'Land area (sq. km)',\n",
       "       u'Mobile cellular subscriptions',\n",
       "       u'Mobile cellular subscriptions (per 100 people)',\n",
       "       u'Nitrous oxide emissions (thousand metric tons of CO2 equivalent)',\n",
       "       u'People practicing open defecation (% of population)',\n",
       "       u'People using basic drinking water services (% of population)',\n",
       "       u'People using basic sanitation services (% of population)',\n",
       "       u'Population density (people per sq. km of land area)',\n",
       "       u'Population growth (annual %)', u'Population, total',\n",
       "       u'Primary education, duration (years)',\n",
       "       u'Primary school starting age (years)',\n",
       "       u'Renewable electricity output (% of total electricity output)',\n",
       "       u'Rural population', u'Rural population (% of total population)',\n",
       "       u'Surface area (sq. km)', u'Total fisheries production (metric tons)',\n",
       "       u'Urban population', u'Urban population (% of total)',\n",
       "       u'Urban population growth (annual %)'],\n",
       "      dtype='object', name=u'Indicator Name')"
      ]
     },
     "execution_count": 462,
     "metadata": {},
     "output_type": "execute_result"
    }
   ],
   "source": [
    "df_dfpivot.columns"
   ]
  },
  {
   "cell_type": "code",
   "execution_count": 481,
   "metadata": {
    "collapsed": false,
    "scrolled": false
   },
   "outputs": [
    {
     "name": "stdout",
     "output_type": "stream",
     "text": [
      "(183, 17)\n"
     ]
    },
    {
     "data": {
      "text/html": [
       "<div>\n",
       "<style scoped>\n",
       "    .dataframe tbody tr th:only-of-type {\n",
       "        vertical-align: middle;\n",
       "    }\n",
       "\n",
       "    .dataframe tbody tr th {\n",
       "        vertical-align: top;\n",
       "    }\n",
       "\n",
       "    .dataframe thead th {\n",
       "        text-align: right;\n",
       "    }\n",
       "</style>\n",
       "<table border=\"1\" class=\"dataframe\">\n",
       "  <thead>\n",
       "    <tr style=\"text-align: right;\">\n",
       "      <th>Indicator Name</th>\n",
       "      <th>Access to electricity (% of population)</th>\n",
       "      <th>Agricultural land (% of land area)</th>\n",
       "      <th>Birth rate, crude (per 1,000 people)</th>\n",
       "      <th>Fixed telephone subscriptions (per 100 people)</th>\n",
       "      <th>Forest area (% of land area)</th>\n",
       "      <th>Incidence of tuberculosis (per 100,000 people)</th>\n",
       "      <th>International migrant stock (% of population)</th>\n",
       "      <th>Mobile cellular subscriptions (per 100 people)</th>\n",
       "      <th>People using basic drinking water services (% of population)</th>\n",
       "      <th>People using basic sanitation services (% of population)</th>\n",
       "      <th>Population density (people per sq. km of land area)</th>\n",
       "      <th>Population growth (annual %)</th>\n",
       "      <th>Primary education, duration (years)</th>\n",
       "      <th>Primary school starting age (years)</th>\n",
       "      <th>Rural population (% of total population)</th>\n",
       "      <th>Urban population (% of total)</th>\n",
       "      <th>Urban population growth (annual %)</th>\n",
       "    </tr>\n",
       "    <tr>\n",
       "      <th>Country Name</th>\n",
       "      <th></th>\n",
       "      <th></th>\n",
       "      <th></th>\n",
       "      <th></th>\n",
       "      <th></th>\n",
       "      <th></th>\n",
       "      <th></th>\n",
       "      <th></th>\n",
       "      <th></th>\n",
       "      <th></th>\n",
       "      <th></th>\n",
       "      <th></th>\n",
       "      <th></th>\n",
       "      <th></th>\n",
       "      <th></th>\n",
       "      <th></th>\n",
       "      <th></th>\n",
       "    </tr>\n",
       "  </thead>\n",
       "  <tbody>\n",
       "    <tr>\n",
       "      <th>Afghanistan</th>\n",
       "      <td>42.700000</td>\n",
       "      <td>58.067580</td>\n",
       "      <td>39.232</td>\n",
       "      <td>0.058526</td>\n",
       "      <td>2.067825</td>\n",
       "      <td>189.0</td>\n",
       "      <td>0.365658</td>\n",
       "      <td>35.974039</td>\n",
       "      <td>50.046191</td>\n",
       "      <td>33.559192</td>\n",
       "      <td>44.118443</td>\n",
       "      <td>2.812617</td>\n",
       "      <td>6.0</td>\n",
       "      <td>7.0</td>\n",
       "      <td>75.311</td>\n",
       "      <td>24.689</td>\n",
       "      <td>4.347280</td>\n",
       "    </tr>\n",
       "    <tr>\n",
       "      <th>Albania</th>\n",
       "      <td>100.000000</td>\n",
       "      <td>43.843066</td>\n",
       "      <td>11.819</td>\n",
       "      <td>10.573044</td>\n",
       "      <td>28.332117</td>\n",
       "      <td>17.0</td>\n",
       "      <td>1.818957</td>\n",
       "      <td>85.468247</td>\n",
       "      <td>88.089492</td>\n",
       "      <td>95.571700</td>\n",
       "      <td>106.314635</td>\n",
       "      <td>-0.496462</td>\n",
       "      <td>5.0</td>\n",
       "      <td>6.0</td>\n",
       "      <td>47.837</td>\n",
       "      <td>52.163</td>\n",
       "      <td>1.609373</td>\n",
       "    </tr>\n",
       "    <tr>\n",
       "      <th>Algeria</th>\n",
       "      <td>99.711174</td>\n",
       "      <td>17.371334</td>\n",
       "      <td>24.762</td>\n",
       "      <td>7.885884</td>\n",
       "      <td>0.805294</td>\n",
       "      <td>77.0</td>\n",
       "      <td>0.679773</td>\n",
       "      <td>88.444875</td>\n",
       "      <td>92.388330</td>\n",
       "      <td>86.558847</td>\n",
       "      <td>15.164391</td>\n",
       "      <td>1.821358</td>\n",
       "      <td>5.0</td>\n",
       "      <td>6.0</td>\n",
       "      <td>32.474</td>\n",
       "      <td>67.526</td>\n",
       "      <td>2.869395</td>\n",
       "    </tr>\n",
       "    <tr>\n",
       "      <th>Angola</th>\n",
       "      <td>35.132019</td>\n",
       "      <td>46.835646</td>\n",
       "      <td>45.314</td>\n",
       "      <td>1.438029</td>\n",
       "      <td>46.907837</td>\n",
       "      <td>384.0</td>\n",
       "      <td>0.360741</td>\n",
       "      <td>48.101209</td>\n",
       "      <td>40.057690</td>\n",
       "      <td>33.061180</td>\n",
       "      <td>18.744791</td>\n",
       "      <td>3.570099</td>\n",
       "      <td>6.0</td>\n",
       "      <td>6.0</td>\n",
       "      <td>59.903</td>\n",
       "      <td>40.097</td>\n",
       "      <td>5.580344</td>\n",
       "    </tr>\n",
       "    <tr>\n",
       "      <th>Antigua and Barbuda</th>\n",
       "      <td>93.961617</td>\n",
       "      <td>20.454545</td>\n",
       "      <td>17.308</td>\n",
       "      <td>41.637912</td>\n",
       "      <td>22.272727</td>\n",
       "      <td>9.2</td>\n",
       "      <td>30.277533</td>\n",
       "      <td>192.553277</td>\n",
       "      <td>97.088704</td>\n",
       "      <td>86.328519</td>\n",
       "      <td>215.138636</td>\n",
       "      <td>1.147472</td>\n",
       "      <td>7.0</td>\n",
       "      <td>5.0</td>\n",
       "      <td>73.761</td>\n",
       "      <td>26.239</td>\n",
       "      <td>-1.037358</td>\n",
       "    </tr>\n",
       "  </tbody>\n",
       "</table>\n",
       "</div>"
      ],
      "text/plain": [
       "Indicator Name       Access to electricity (% of population)  \\\n",
       "Country Name                                                   \n",
       "Afghanistan                                        42.700000   \n",
       "Albania                                           100.000000   \n",
       "Algeria                                            99.711174   \n",
       "Angola                                             35.132019   \n",
       "Antigua and Barbuda                                93.961617   \n",
       "\n",
       "Indicator Name       Agricultural land (% of land area)  \\\n",
       "Country Name                                              \n",
       "Afghanistan                                   58.067580   \n",
       "Albania                                       43.843066   \n",
       "Algeria                                       17.371334   \n",
       "Angola                                        46.835646   \n",
       "Antigua and Barbuda                           20.454545   \n",
       "\n",
       "Indicator Name       Birth rate, crude (per 1,000 people)  \\\n",
       "Country Name                                                \n",
       "Afghanistan                                        39.232   \n",
       "Albania                                            11.819   \n",
       "Algeria                                            24.762   \n",
       "Angola                                             45.314   \n",
       "Antigua and Barbuda                                17.308   \n",
       "\n",
       "Indicator Name       Fixed telephone subscriptions (per 100 people)  \\\n",
       "Country Name                                                          \n",
       "Afghanistan                                                0.058526   \n",
       "Albania                                                   10.573044   \n",
       "Algeria                                                    7.885884   \n",
       "Angola                                                     1.438029   \n",
       "Antigua and Barbuda                                       41.637912   \n",
       "\n",
       "Indicator Name       Forest area (% of land area)  \\\n",
       "Country Name                                        \n",
       "Afghanistan                              2.067825   \n",
       "Albania                                 28.332117   \n",
       "Algeria                                  0.805294   \n",
       "Angola                                  46.907837   \n",
       "Antigua and Barbuda                     22.272727   \n",
       "\n",
       "Indicator Name       Incidence of tuberculosis (per 100,000 people)  \\\n",
       "Country Name                                                          \n",
       "Afghanistan                                                   189.0   \n",
       "Albania                                                        17.0   \n",
       "Algeria                                                        77.0   \n",
       "Angola                                                        384.0   \n",
       "Antigua and Barbuda                                             9.2   \n",
       "\n",
       "Indicator Name       International migrant stock (% of population)  \\\n",
       "Country Name                                                         \n",
       "Afghanistan                                               0.365658   \n",
       "Albania                                                   1.818957   \n",
       "Algeria                                                   0.679773   \n",
       "Angola                                                    0.360741   \n",
       "Antigua and Barbuda                                      30.277533   \n",
       "\n",
       "Indicator Name       Mobile cellular subscriptions (per 100 people)  \\\n",
       "Country Name                                                          \n",
       "Afghanistan                                               35.974039   \n",
       "Albania                                                   85.468247   \n",
       "Algeria                                                   88.444875   \n",
       "Angola                                                    48.101209   \n",
       "Antigua and Barbuda                                      192.553277   \n",
       "\n",
       "Indicator Name       People using basic drinking water services (% of population)  \\\n",
       "Country Name                                                                        \n",
       "Afghanistan                                                  50.046191              \n",
       "Albania                                                      88.089492              \n",
       "Algeria                                                      92.388330              \n",
       "Angola                                                       40.057690              \n",
       "Antigua and Barbuda                                          97.088704              \n",
       "\n",
       "Indicator Name       People using basic sanitation services (% of population)  \\\n",
       "Country Name                                                                    \n",
       "Afghanistan                                                  33.559192          \n",
       "Albania                                                      95.571700          \n",
       "Algeria                                                      86.558847          \n",
       "Angola                                                       33.061180          \n",
       "Antigua and Barbuda                                          86.328519          \n",
       "\n",
       "Indicator Name       Population density (people per sq. km of land area)  \\\n",
       "Country Name                                                               \n",
       "Afghanistan                                                  44.118443     \n",
       "Albania                                                     106.314635     \n",
       "Algeria                                                      15.164391     \n",
       "Angola                                                       18.744791     \n",
       "Antigua and Barbuda                                         215.138636     \n",
       "\n",
       "Indicator Name       Population growth (annual %)  \\\n",
       "Country Name                                        \n",
       "Afghanistan                              2.812617   \n",
       "Albania                                 -0.496462   \n",
       "Algeria                                  1.821358   \n",
       "Angola                                   3.570099   \n",
       "Antigua and Barbuda                      1.147472   \n",
       "\n",
       "Indicator Name       Primary education, duration (years)  \\\n",
       "Country Name                                               \n",
       "Afghanistan                                          6.0   \n",
       "Albania                                              5.0   \n",
       "Algeria                                              5.0   \n",
       "Angola                                               6.0   \n",
       "Antigua and Barbuda                                  7.0   \n",
       "\n",
       "Indicator Name       Primary school starting age (years)  \\\n",
       "Country Name                                               \n",
       "Afghanistan                                          7.0   \n",
       "Albania                                              6.0   \n",
       "Algeria                                              6.0   \n",
       "Angola                                               6.0   \n",
       "Antigua and Barbuda                                  5.0   \n",
       "\n",
       "Indicator Name       Rural population (% of total population)  \\\n",
       "Country Name                                                    \n",
       "Afghanistan                                            75.311   \n",
       "Albania                                                47.837   \n",
       "Algeria                                                32.474   \n",
       "Angola                                                 59.903   \n",
       "Antigua and Barbuda                                    73.761   \n",
       "\n",
       "Indicator Name       Urban population (% of total)  \\\n",
       "Country Name                                         \n",
       "Afghanistan                                 24.689   \n",
       "Albania                                     52.163   \n",
       "Algeria                                     67.526   \n",
       "Angola                                      40.097   \n",
       "Antigua and Barbuda                         26.239   \n",
       "\n",
       "Indicator Name       Urban population growth (annual %)  \n",
       "Country Name                                             \n",
       "Afghanistan                                    4.347280  \n",
       "Albania                                        1.609373  \n",
       "Algeria                                        2.869395  \n",
       "Angola                                         5.580344  \n",
       "Antigua and Barbuda                           -1.037358  "
      ]
     },
     "execution_count": 481,
     "metadata": {},
     "output_type": "execute_result"
    }
   ],
   "source": [
    "to_drop = [\"Access to electricity, urban (% of urban population)\",\n",
    "           \"Access to electricity, rural (% of rural population)\",\n",
    "           \"Agricultural land (sq. km)\",\n",
    "           \"Arable land (hectares)\",\n",
    "           \"Fixed telephone subscriptions\",\n",
    "           \"Capture fisheries production (metric tons)\",\n",
    "           \"Forest area (sq. km)\",\n",
    "           \"International migrant stock, total\",\n",
    "           \"Mobile cellular subscriptions\",\n",
    "           \"Rural population\",\n",
    "           \"Surface area (sq. km)\",\n",
    "           \"Total fisheries production (metric tons)\",\n",
    "           \"Urban population\",\n",
    "           \"Adjusted savings: mineral depletion (current US$)\",\n",
    "           \"Arable land (% of land area)\",\n",
    "           \"Arable land (hectares per person)\",\n",
    "           \"Nitrous oxide emissions (thousand metric tons of CO2 equivalent)\",\n",
    "           \"People practicing open defecation (% of population)\",\n",
    "           \"Population, total\",\n",
    "           \"Renewable electricity output (% of total electricity output)\",\n",
    "           \"Land area (sq. km)\"\n",
    "          ]\n",
    "df_dfpivot_cleard = df_dfpivot.drop(to_drop, axis=1)\n",
    "print df_dfpivot_cleard.shape\n",
    "df_dfpivot_cleard.head()"
   ]
  },
  {
   "cell_type": "code",
   "execution_count": 459,
   "metadata": {
    "collapsed": true
   },
   "outputs": [],
   "source": [
    "import sklearn.preprocessing as pp"
   ]
  },
  {
   "cell_type": "code",
   "execution_count": 482,
   "metadata": {
    "collapsed": false
   },
   "outputs": [],
   "source": [
    "ss = pp.StandardScaler()\n",
    "normalized = ss.fit_transform(df_dfpivot_cleard.values)"
   ]
  },
  {
   "cell_type": "code",
   "execution_count": 483,
   "metadata": {
    "collapsed": false,
    "scrolled": false
   },
   "outputs": [
    {
     "name": "stdout",
     "output_type": "stream",
     "text": [
      "27\n",
      "done\n",
      "101\n",
      "done\n",
      "101\n",
      "done\n",
      "101\n",
      "done\n",
      "101\n",
      "done\n"
     ]
    },
    {
     "data": {
      "image/png": "[encoded data removed]",
      "text/plain": [
       "<matplotlib.figure.Figure at 0x4e6ae390>"
      ]
     },
     "metadata": {},
     "output_type": "display_data"
    }
   ],
   "source": [
    "ks = range(2, 7)\n",
    "criteria = np.zeros(len(ks))\n",
    "\n",
    "for i, k in enumerate(ks):\n",
    "    cls = EMClustering(k)\n",
    "    y = cls.fit_predict(normalized)\n",
    "    criteria[i] = quality(normalized, y, k)\n",
    "pl.figure(figsize=(8, 6))\n",
    "pl.plot(ks, criteria)\n",
    "pl.title(\"$J(k)$\")\n",
    "pl.ylabel(\"Criteria $J$\")\n",
    "pl.xlabel(\"Number of clusters $k$\")\n",
    "pl.grid()\n",
    "pl.show()"
   ]
  },
  {
   "cell_type": "markdown",
   "metadata": {},
   "source": [
    "Из картинки видно, что по методу локтя страны следует разбивать на 5 кластеров"
   ]
  },
  {
   "cell_type": "code",
   "execution_count": 485,
   "metadata": {
    "collapsed": false
   },
   "outputs": [
    {
     "name": "stdout",
     "output_type": "stream",
     "text": [
      "301\n",
      "done\n",
      "[1 3 3 1 4 2 4 4 2 2 4 0 3 4 2 4 3 1 4 3 3 2 1 2 4 2 1 1 3 1 1 4 4 1 1 4 3\n",
      " 2 1 1 1 4 1 2 4 4 2 4 0 3 2 3 3 1 2 1 3 2 4 3 1 2 2 1 4 3 1 1 3 1 3 2 4 3\n",
      " 3 4 3 4 4 2 3 4 0 2 1 1 4 0 2 3 2 4 1 1 4 2 2 1 1 4 3 1 4 1 4 2 3 2 3 2 3\n",
      " 1 1 1 3 4 4 4 3 1 1 4 0 3 4 3 1 2 3 3 2 4 4 0 2 2 1 3 1 4 1 2 3 1 0 2 4 1\n",
      " 1 1 4 3 3 3 1 3 1 2 4 2 2 1 3 1 1 3 3 2 2 2 1 2 0 4 4 4 2 1 2 3 1 1 1]\n"
     ]
    }
   ],
   "source": [
    "N = 5\n",
    "cls = EMClustering(N, maxstep=300)\n",
    "y = cls.fit_predict(normalized)\n",
    "print y"
   ]
  },
  {
   "cell_type": "code",
   "execution_count": 486,
   "metadata": {
    "collapsed": false
   },
   "outputs": [
    {
     "name": "stdout",
     "output_type": "stream",
     "text": [
      "[['Bahrain', 'Djibouti', 'Jordan', 'Kuwait', 'Oman', 'Qatar', 'Singapore', 'United Arab Emirates'], ['Afghanistan', 'Angola', 'Benin', 'Botswana', 'Burkina Faso', 'Burundi', 'Cambodia', 'Cameroon', 'Central African Republic', 'Chad', 'Comoros', 'Congo, Dem. Rep.', 'Congo, Rep.', \"Cote d'Ivoire\", 'Eritrea', 'Ethiopia', 'Gambia, The', 'Ghana', 'Guinea', 'Guinea-Bissau', 'Haiti', 'Kenya', 'Kiribati', 'Lesotho', 'Liberia', 'Madagascar', 'Malawi', 'Mali', 'Mauritania', 'Mozambique', 'Myanmar', 'Namibia', 'Niger', 'Nigeria', 'Papua New Guinea', 'Rwanda', 'Sao Tome and Principe', 'Senegal', 'Sierra Leone', 'Solomon Islands', 'Somalia', 'South Africa', 'Sudan', 'Swaziland', 'Tanzania', 'Timor-Leste', 'Togo', 'Uganda', 'Vanuatu', 'Yemen, Rep.', 'Zambia', 'Zimbabwe'], ['Armenia', 'Austria', 'Azerbaijan', 'Belarus', 'Bosnia and Herzegovina', 'Brazil', 'Bulgaria', 'Colombia', 'Croatia', 'Czech Republic', 'Ecuador', 'Estonia', 'Finland', 'Georgia', 'Germany', 'Hungary', 'Italy', 'Kazakhstan', 'Kyrgyz Republic', 'Latvia', 'Lithuania', 'Macedonia, FYR', 'Mexico', 'Moldova', 'Montenegro', 'Paraguay', 'Poland', 'Romania', 'Russian Federation', 'Serbia', 'Slovak Republic', 'Sweden', 'Syrian Arab Republic', 'Tajikistan', 'Tunisia', 'Turkey', 'Turkmenistan', 'Ukraine', 'Uzbekistan', 'Venezuela, RB'], ['Albania', 'Algeria', 'Bangladesh', 'Belize', 'Bhutan', 'Bolivia', 'Cabo Verde', 'China', 'Dominican Republic', 'Egypt, Arab Rep.', 'El Salvador', 'Fiji', 'Gabon', 'Guatemala', 'Guyana', 'Honduras', 'India', 'Indonesia', 'Iraq', 'Jamaica', 'Lao PDR', 'Maldives', 'Micronesia, Fed. Sts.', 'Mongolia', 'Morocco', 'Nepal', 'Nicaragua', 'Pakistan', 'Panama', 'Peru', 'Philippines', 'Samoa', 'Seychelles', 'Sri Lanka', 'St. Lucia', 'St. Vincent and the Grenadines', 'Suriname', 'Thailand', 'Tonga', 'Trinidad and Tobago', 'Vietnam'], ['Antigua and Barbuda', 'Aruba', 'Australia', 'Bahamas, The', 'Barbados', 'Belgium', 'Bermuda', 'Brunei Darussalam', 'Canada', 'Cayman Islands', 'Chile', 'Costa Rica', 'Cuba', 'Cyprus', 'Denmark', 'France', 'Greece', 'Iceland', 'Iran, Islamic Rep.', 'Ireland', 'Israel', 'Japan', 'Korea, Rep.', 'Lebanon', 'Libya', 'Malaysia', 'Malta', 'Mauritius', 'Netherlands', 'New Caledonia', 'New Zealand', 'Norway', 'Palau', 'Portugal', 'Puerto Rico', 'Saudi Arabia', 'Slovenia', 'Spain', 'Switzerland', 'United Kingdom', 'United States', 'Uruguay']]\n"
     ]
    }
   ],
   "source": [
    "cntrs = dfpivot1.index.tolist()\n",
    "lst = [[],[],[],[],[]]\n",
    "for i in xrange(len(y)):\n",
    "    lst[y[i]].append(cntrs[i])\n",
    "print lst"
   ]
  },
  {
   "cell_type": "code",
   "execution_count": 487,
   "metadata": {
    "collapsed": false
   },
   "outputs": [],
   "source": [
    "nn = ss.inverse_transform(normalized)\n",
    "centroids = np.zeros((N, nn.shape[1]));\n",
    "cnts = np.zeros((N));\n",
    "for i in xrange(nn.shape[0]):\n",
    "    centroids[y[i]] += nn[i]\n",
    "    cnts[y[i]] += 1\n",
    "for i in xrange(N):\n",
    "    if cnts[i] != 0:\n",
    "        centroids[i] /= cnts[i]\n",
    "    else:\n",
    "        centroids[i] = inf\n",
    "centroids = pd.DataFrame(centroids, columns=df_dfpivot_cleard.columns)"
   ]
  },
  {
   "cell_type": "code",
   "execution_count": 488,
   "metadata": {
    "collapsed": false
   },
   "outputs": [],
   "source": [
    "centroids.to_excel(\"clustering.xlsx\")"
   ]
  },
  {
   "cell_type": "code",
   "execution_count": 489,
   "metadata": {
    "collapsed": true
   },
   "outputs": [],
   "source": [
    "from sklearn import manifold"
   ]
  },
  {
   "cell_type": "code",
   "execution_count": 490,
   "metadata": {
    "collapsed": false,
    "scrolled": false
   },
   "outputs": [
    {
     "name": "stdout",
     "output_type": "stream",
     "text": [
      "[t-SNE] Computing 91 nearest neighbors...\n",
      "[t-SNE] Indexed 183 samples in 0.001s...\n",
      "[t-SNE] Computed neighbors for 183 samples in 0.005s...\n",
      "[t-SNE] Computed conditional probabilities for sample 183 / 183\n",
      "[t-SNE] Mean sigma: 1.704884\n",
      "[t-SNE] KL divergence after 250 iterations with early exaggeration: 58.062824\n",
      "[t-SNE] Error after 800 iterations: 0.429277\n"
     ]
    },
    {
     "data": {
      "image/png": "[encoded data removed]",
      "text/plain": [
       "<matplotlib.figure.Figure at 0x4088a748>"
      ]
     },
     "metadata": {},
     "output_type": "display_data"
    }
   ],
   "source": [
    "tsne = manifold.TSNE(n_components=2, verbose=1, n_iter=1000)\n",
    "z = tsne.fit_transform(normalized)\n",
    "cm = pl.get_cmap('jet')\n",
    "pl.figure(figsize=(15, 15))\n",
    "pl.scatter(z[:, 0], z[:, 1], c=map(lambda c: cm(1.0 * c / k), y))\n",
    "pl.axis('off')\n",
    "pl.show()"
   ]
  },
  {
   "cell_type": "markdown",
   "metadata": {
    "collapsed": true
   },
   "source": [
    "## Задание 4"
   ]
  },
  {
   "cell_type": "markdown",
   "metadata": {},
   "source": [
    "1. Очень богатые, урбанизированные страны с огромной плотностью населения и огромным потоком мигрантов\n",
    "2. Бедные сельскохозяйственные страны, \n",
    "3. Страны среднего достатка с хорошо развитым сельским хозяйством и медициной и средней плотностью населения\n",
    "4. Страны среднего достатка с плохо развитыми городами и медициной и высокой плотностью населения\n",
    "5. Богатые страны с большим количеством мигрантов и высокой плотностью населения. Большее количество людей живут в городах"
   ]
  },
  {
   "cell_type": "markdown",
   "metadata": {},
   "source": [
    "Поздравляем, Вы завершили домашние задания по модулю \"Алгоритмы кластеризации\". Надеемся, что это было интересно."
   ]
  }
 ],
 "metadata": {
  "kernelspec": {
   "display_name": "Python 2",
   "language": "python",
   "name": "python2"
  },
  "language_info": {
   "codemirror_mode": {
    "name": "ipython",
    "version": 2
   },
   "file_extension": ".py",
   "mimetype": "text/x-python",
   "name": "python",
   "nbconvert_exporter": "python",
   "pygments_lexer": "ipython2",
   "version": "2.7.13"
  }
 },
 "nbformat": 4,
 "nbformat_minor": 0
}
